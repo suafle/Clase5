{
  "nbformat": 4,
  "nbformat_minor": 0,
  "metadata": {
    "colab": {
      "name": "Actividad5-Clasificacion-de-galaxias-estrellas-ML.ipynb",
      "version": "0.3.2",
      "provenance": [],
      "collapsed_sections": []
    },
    "kernelspec": {
      "display_name": "Python 3",
      "language": "python",
      "name": "python3"
    }
  },
  "cells": [
    {
      "metadata": {
        "id": "9sflCJ9zlA-A",
        "colab_type": "text"
      },
      "cell_type": "markdown",
      "source": [
        "# EI2001: Ciencia de Datos en Astronomía\n",
        "**Profesores:** Pía Cortés, Daniela Barrientos, Matías Suazo, Matías Mattamala\n",
        "\n",
        "# Actividad Clase 5 - Clasificación con Machine Learning\n",
        "## Separando estrellas de galaxias con los datos de SDSS\n",
        "\n",
        "**Objetivos:** \n",
        "1. Introducción al Machine Learning en Python\n",
        "2. Librería Scikit Learn\n",
        "3. Uso de Métodos de clasificacion\n",
        "4. Preaparacion de datos\n",
        "5. Creacion de Modelo\n",
        "6. Clasificación\n",
        " \n",
        " "
      ]
    },
    {
      "metadata": {
        "id": "AgwJeI8YaDuD",
        "colab_type": "text"
      },
      "cell_type": "markdown",
      "source": [
        "Antes de comenzar la actividad, instalaremos el paquete de descarga de bases de datos astronómicas  [`astroquery`](https://astroquery.readthedocs.io/en/latest/). \n",
        "\n",
        "Ejecuta la siguiente celda, que realizará la instalación del paquete en tu entorno de ejecución temporal. "
      ]
    },
    {
      "metadata": {
        "id": "Gw23RcpJlPbL",
        "colab_type": "code",
        "colab": {
          "base_uri": "https://localhost:8080/",
          "height": 101
        },
        "outputId": "53b7a068-3bff-42f1-92f8-459b9b0ad90b"
      },
      "cell_type": "code",
      "source": [
        "# Al agregar ! convertimos nuestro codigo de python a bash (lenguaje usado en la terminal)\n",
        "!pip install --pre  --quiet astroquery"
      ],
      "execution_count": 1,
      "outputs": [
        {
          "output_type": "stream",
          "text": [
            "\u001b[K    100% |████████████████████████████████| 4.2MB 5.9MB/s \n",
            "\u001b[K    100% |████████████████████████████████| 2.3MB 12.0MB/s \n",
            "\u001b[K    100% |████████████████████████████████| 61kB 19.6MB/s \n",
            "\u001b[K    100% |████████████████████████████████| 102kB 26.8MB/s \n",
            "\u001b[?25h  Building wheel for astroquery (setup.py) ... \u001b[?25ldone\n",
            "\u001b[?25h"
          ],
          "name": "stdout"
        }
      ]
    },
    {
      "metadata": {
        "id": "ztOQu7kaFdHa",
        "colab_type": "text"
      },
      "cell_type": "markdown",
      "source": [
        "# Motivación \n",
        "## ¿Por qué usar algoritmos de Aprendizaje de Máquinas?\n",
        "\n",
        "\n",
        "Muchas de las aplicaciones de la ciencia hecha a partir de surveys astronómicos, dependen de la clasificación inicial de los objetos observados. Por ejemplo, pongámonos en el caso de querer estudiar la estructura de la Vía Láctea a partir de observaciones como las de SDSS o futuramente LSST. Estas imágenes contienen tanto estrellas locales como galaxias en sus imágenes, por lo que el paso cero de nuestra investigación sería separar las estrellas de las galaxias en nuestros catálogos. \n",
        "\n",
        "Ahora, ¿por qué es necesario usar Machine Learning para esto? \n",
        "\n",
        "Generalmente obtener una clasificación es caro. En el contexto de nuestro problema de estrellas versus galaxias, la clasificación real es confirmada mediante espectroscopía. Pero, obtener espectros requiere de tiempos de exposición mayores y no se realiza para todas las fuentes. En SDSS existen $\\gt 10^{8}$ fuentes, de las cuales solo $\\sim 10^{6}$ tienen espectros.\n",
        "\n",
        "![Espectros](https://raw.githubusercontent.com/astrodatos/Clase5/master/imagenes/espectros.png)\n",
        "\n",
        "Por otro lado, podemos hacernos una idea de la clasificación entre estrella y galaxia mirando las imágenes, las estrellas son objetos puntuales, mientras que las galaxias son extendidas. Pero esto necesitaría de una inspección visual para cada fuente en el catálogo, lo que nuevamente, es muy caro.\n",
        "\n",
        "![Imágen Estrella](https://raw.githubusercontent.com/astrodatos/Clase5/master/imagenes/estrella.png =300x300)      ![Imágen Galaxia](https://github.com/astrodatos/Clase5/raw/master/imagenes/gal.png =300x300)\n",
        "\n",
        "Aquí es donde el Machine Learning puede ayudarnos. A través del uso de algoritmos de ML podemos encontrar una separación de los objetos en nuestros catálogos en el espacio de múltiples de sus atributos. Muchas veces esta separación sucede en un espacio de varias dimensiones, que seríamos incapaces de detectar de otro modo."
      ]
    },
    {
      "metadata": {
        "id": "y5KMFHBUlA-K",
        "colab_type": "code",
        "colab": {}
      },
      "cell_type": "code",
      "source": [
        "import numpy as np\n",
        "import pandas as pd\n",
        "import seaborn as sns\n",
        "import matplotlib.pyplot as plt\n",
        "\n",
        "from mpl_toolkits import mplot3d\n",
        "\n",
        "%matplotlib inline\n",
        "#%matplotlib notebook\n",
        "\n",
        "\n",
        "#Cambiar formato de graficos\n",
        "\n",
        "plt.rcParams.update({'axes.labelsize' : 18})\n",
        "plt.rcParams.update({'axes.titlesize' : 20})\n",
        "plt.rcParams.update({'legend.fontsize' : 15})"
      ],
      "execution_count": 0,
      "outputs": []
    },
    {
      "metadata": {
        "id": "OvLWXFbH85RM",
        "colab_type": "text"
      },
      "cell_type": "markdown",
      "source": [
        "El siguiente es un ejemplo de cómo aumentar las dimensiones a veces revela separaciones en nuestros datos. "
      ]
    },
    {
      "metadata": {
        "id": "CN8EZ814dcHD",
        "colab_type": "code",
        "colab": {}
      },
      "cell_type": "code",
      "source": [
        "# Definimos las posiciones para 3 nubes de puntos\n",
        "\n",
        "b1_x = np.random.normal(2, 0.5, 100) \n",
        "b2_x = np.random.normal(1, 0.5, 100)\n",
        "b3_x = np.random.normal(5, 0.5, 100)\n",
        "\n",
        "b1_y = np.random.normal(1, 0.5, 100) \n",
        "b2_y = np.random.normal(1, 0.5, 100)\n",
        "b3_y = np.random.normal(5, 0.5, 100)\n",
        "\n",
        "b1_z = np.random.normal(1, 0.5, 100) \n",
        "b2_z = np.random.normal(5, 0.5, 100)\n",
        "b3_z = np.random.normal(5, 0.5, 100)"
      ],
      "execution_count": 0,
      "outputs": []
    },
    {
      "metadata": {
        "id": "NWWbTem6c4bZ",
        "colab_type": "code",
        "colab": {}
      },
      "cell_type": "code",
      "source": [
        "fig = plt.figure(figsize = (10,6))\n",
        "ax = plt.axes(projection='3d')\n",
        "ax.scatter3D(b1_x,b1_y,b1_z, color = 'r', label = 'c1')\n",
        "ax.scatter3D(b2_x,b2_y,b2_z, color = 'b', label = 'c2')\n",
        "ax.scatter3D(b3_x,b3_y,b3_z, color = 'g', label = 'c3')\n",
        "ax.set_xlabel('X')\n",
        "ax.set_ylabel('Y')\n",
        "ax.set_zlabel('Z')\n",
        "\n",
        "ax.view_init(90, 90)\n",
        "ax.legend()\n",
        "plt.tight_layout()"
      ],
      "execution_count": 0,
      "outputs": []
    },
    {
      "metadata": {
        "id": "kTH6sxgwlA-H",
        "colab_type": "text"
      },
      "cell_type": "markdown",
      "source": [
        "# Preparación de Datos\n",
        "\n",
        "## Sloan Digital Sky Survey ([SDSS](https://www.sdss.org/))\n",
        "\n",
        "\n",
        "Los datos que utilizaremos para crear nuestro modelo de clasificación provendran del Sloan Digital Sky Survey, un proyecto astronómico que mapeó distintas zonas del cielo realizando tanto imágenes como espectros para una cantidad enorme de fuentes. \n",
        "\n",
        "Esto nos da la ventaja de obtener tanto los atributos, en este caso la fotometría, como las clases, que fueron obtenidas mediante espectros, a partir del mismo set de datos.\n",
        "\n",
        "La gente de SDSS además de obtener los espectros e imágenes 'crudas' en multiples bandas, procesó estos datos para obtener la fotometría y una serie de parámetros por fuente. (Puedes mirar la lista de parámetros y sus definiciones [aqui](http://skyserver.sdss.org/dr15/en/help/browser/browser.aspx#&&history=description+PhotoObjAll+U)).\n",
        "\n",
        "No podemos usar las 454  propiedades calculadas por objeto, es por esto que el primer paso en la construcción de nuestro clasificador será elegir los atributos a utilizar en esta clasificación.  \n",
        "\n",
        "Para este ejemplo básico nos limitaremos a utilizar solo la fotometría en la banda r, obtenida mediante diferentes modelamientos.\n",
        " \n",
        " \n"
      ]
    },
    {
      "metadata": {
        "id": "GHjTiOF5lA-Y",
        "colab_type": "text"
      },
      "cell_type": "markdown",
      "source": [
        "### Cargar Datos desde SDSS\n",
        "\n",
        "El paquete de python `astroquery` nos provee de una herramienta para acceder a las bases de datos de múltiples surveys astronómicos. En este caso utilizaremos sus módulos para extraer datos de SDSS. \n",
        "\n",
        "El formato para realizar la petición es la siguiente:\n",
        "\n",
        "* __SELECT__: columnas que se quiere obtener.\n",
        "  * Fotometría en la banda r, para distintos modelos fotométricos.\n",
        "    * Atributos: `psfMag_r`, `fiberMag_r`, `fiber2Mag_r`, `petroMag_r`, `devMag_r`, `expMag_r`,\n",
        "  `modelMag_r`, `cModelMag_r`\n",
        "    * Clases: `class`  \n",
        "  \n",
        "\n",
        "* __FROM__: tabla desde donde obtener datos.\n",
        "  * Fotometría desde `PhotoObjAll` y clases de `specObjAll`.\n",
        "\n",
        "* __WHERE__: condiciones para elegir las fuentes.\n",
        "  * Se eligen objetos con buena fotometría y que solo sean de las clases Star y Galaxy.\n"
      ]
    },
    {
      "metadata": {
        "id": "ijg_JSXklA-d",
        "colab_type": "code",
        "colab": {}
      },
      "cell_type": "code",
      "source": [
        "from astroquery.sdss import SDSS"
      ],
      "execution_count": 0,
      "outputs": []
    },
    {
      "metadata": {
        "id": "CIljmyJulA-r",
        "colab_type": "code",
        "colab": {
          "base_uri": "https://localhost:8080/",
          "height": 70
        },
        "outputId": "76d773ee-a133-4170-b975-d8eb615633a5"
      },
      "cell_type": "code",
      "source": [
        "# Vamos a seleccionar 20000 objetos de los catálogos de SDSS\n",
        "\n",
        "data = SDSS.query_sql(\"\"\"SELECT TOP 20000\n",
        "                      p.psfMag_r, p.fiberMag_r, p.fiber2Mag_r, p.petroMag_r, \n",
        "                      p.deVMag_r, p.expMag_r, p.modelMag_r, p.cModelMag_r, \n",
        "                      s.class\n",
        "                      \n",
        "                      FROM PhotoObjAll AS p JOIN specObjAll s ON s.bestobjid = p.objid\n",
        "                      \n",
        "                      WHERE p.mode = 1 AND s.sciencePrimary = 1 AND p.clean = 1 AND s.class != 'QSO'\n",
        "                      \n",
        "                      \"\"\")"
      ],
      "execution_count": 4,
      "outputs": [
        {
          "output_type": "stream",
          "text": [
            "/usr/local/lib/python3.6/dist-packages/astroquery/sdss/core.py:865: VisibleDeprecationWarning: Reading unicode strings without specifying the encoding argument is deprecated. Set the encoding, use None for the system default.\n",
            "  comments='#'))\n"
          ],
          "name": "stderr"
        }
      ]
    },
    {
      "metadata": {
        "id": "zUCkIRO4lA-2",
        "colab_type": "code",
        "colab": {}
      },
      "cell_type": "code",
      "source": [
        "# Cambiamos el formato de la tabla obtenida con astroquery a pandas.\n",
        "\n",
        "data_df = data.to_pandas()"
      ],
      "execution_count": 0,
      "outputs": []
    },
    {
      "metadata": {
        "id": "8DgTojnmf9mS",
        "colab_type": "code",
        "colab": {
          "base_uri": "https://localhost:8080/",
          "height": 343
        },
        "outputId": "824b07f7-9639-4254-aebb-2d79699788d4"
      },
      "cell_type": "code",
      "source": [
        "# Miremos los primeros 10 objetos\n",
        "\n",
        "data_df[:10]"
      ],
      "execution_count": 6,
      "outputs": [
        {
          "output_type": "execute_result",
          "data": {
            "text/html": [
              "<div>\n",
              "<style scoped>\n",
              "    .dataframe tbody tr th:only-of-type {\n",
              "        vertical-align: middle;\n",
              "    }\n",
              "\n",
              "    .dataframe tbody tr th {\n",
              "        vertical-align: top;\n",
              "    }\n",
              "\n",
              "    .dataframe thead th {\n",
              "        text-align: right;\n",
              "    }\n",
              "</style>\n",
              "<table border=\"1\" class=\"dataframe\">\n",
              "  <thead>\n",
              "    <tr style=\"text-align: right;\">\n",
              "      <th></th>\n",
              "      <th>psfMag_r</th>\n",
              "      <th>fiberMag_r</th>\n",
              "      <th>fiber2Mag_r</th>\n",
              "      <th>petroMag_r</th>\n",
              "      <th>deVMag_r</th>\n",
              "      <th>expMag_r</th>\n",
              "      <th>modelMag_r</th>\n",
              "      <th>cModelMag_r</th>\n",
              "      <th>class</th>\n",
              "    </tr>\n",
              "  </thead>\n",
              "  <tbody>\n",
              "    <tr>\n",
              "      <th>0</th>\n",
              "      <td>20.84498</td>\n",
              "      <td>20.94056</td>\n",
              "      <td>21.52410</td>\n",
              "      <td>20.21043</td>\n",
              "      <td>20.17926</td>\n",
              "      <td>20.40387</td>\n",
              "      <td>20.17926</td>\n",
              "      <td>20.17926</td>\n",
              "      <td>b'GALAXY'</td>\n",
              "    </tr>\n",
              "    <tr>\n",
              "      <th>1</th>\n",
              "      <td>21.35784</td>\n",
              "      <td>21.51477</td>\n",
              "      <td>22.04900</td>\n",
              "      <td>21.26664</td>\n",
              "      <td>21.06857</td>\n",
              "      <td>21.10284</td>\n",
              "      <td>21.10284</td>\n",
              "      <td>21.10284</td>\n",
              "      <td>b'GALAXY'</td>\n",
              "    </tr>\n",
              "    <tr>\n",
              "      <th>2</th>\n",
              "      <td>21.70617</td>\n",
              "      <td>21.85586</td>\n",
              "      <td>22.41572</td>\n",
              "      <td>20.82812</td>\n",
              "      <td>20.89326</td>\n",
              "      <td>21.21087</td>\n",
              "      <td>20.89328</td>\n",
              "      <td>20.89326</td>\n",
              "      <td>b'GALAXY'</td>\n",
              "    </tr>\n",
              "    <tr>\n",
              "      <th>3</th>\n",
              "      <td>17.79862</td>\n",
              "      <td>17.79761</td>\n",
              "      <td>18.43037</td>\n",
              "      <td>16.43511</td>\n",
              "      <td>16.35287</td>\n",
              "      <td>16.74637</td>\n",
              "      <td>16.35286</td>\n",
              "      <td>16.35287</td>\n",
              "      <td>b'GALAXY'</td>\n",
              "    </tr>\n",
              "    <tr>\n",
              "      <th>4</th>\n",
              "      <td>21.50151</td>\n",
              "      <td>21.28290</td>\n",
              "      <td>21.93224</td>\n",
              "      <td>20.29523</td>\n",
              "      <td>20.27570</td>\n",
              "      <td>20.72075</td>\n",
              "      <td>20.27570</td>\n",
              "      <td>20.27570</td>\n",
              "      <td>b'GALAXY'</td>\n",
              "    </tr>\n",
              "    <tr>\n",
              "      <th>5</th>\n",
              "      <td>21.12719</td>\n",
              "      <td>21.25681</td>\n",
              "      <td>21.83808</td>\n",
              "      <td>19.96804</td>\n",
              "      <td>20.14513</td>\n",
              "      <td>20.49478</td>\n",
              "      <td>20.14507</td>\n",
              "      <td>20.14513</td>\n",
              "      <td>b'STAR'</td>\n",
              "    </tr>\n",
              "    <tr>\n",
              "      <th>6</th>\n",
              "      <td>20.97313</td>\n",
              "      <td>21.04968</td>\n",
              "      <td>21.64774</td>\n",
              "      <td>20.15119</td>\n",
              "      <td>20.10240</td>\n",
              "      <td>20.33214</td>\n",
              "      <td>20.10243</td>\n",
              "      <td>20.11384</td>\n",
              "      <td>b'GALAXY'</td>\n",
              "    </tr>\n",
              "    <tr>\n",
              "      <th>7</th>\n",
              "      <td>20.60808</td>\n",
              "      <td>20.90819</td>\n",
              "      <td>21.38455</td>\n",
              "      <td>20.70182</td>\n",
              "      <td>20.61366</td>\n",
              "      <td>20.61337</td>\n",
              "      <td>20.61366</td>\n",
              "      <td>20.61366</td>\n",
              "      <td>b'STAR'</td>\n",
              "    </tr>\n",
              "    <tr>\n",
              "      <th>8</th>\n",
              "      <td>17.76642</td>\n",
              "      <td>17.67537</td>\n",
              "      <td>18.34037</td>\n",
              "      <td>16.22469</td>\n",
              "      <td>16.07633</td>\n",
              "      <td>16.45666</td>\n",
              "      <td>16.07633</td>\n",
              "      <td>16.11027</td>\n",
              "      <td>b'GALAXY'</td>\n",
              "    </tr>\n",
              "    <tr>\n",
              "      <th>9</th>\n",
              "      <td>21.75565</td>\n",
              "      <td>21.74575</td>\n",
              "      <td>22.35892</td>\n",
              "      <td>21.01648</td>\n",
              "      <td>20.73366</td>\n",
              "      <td>20.99669</td>\n",
              "      <td>20.99669</td>\n",
              "      <td>20.95294</td>\n",
              "      <td>b'GALAXY'</td>\n",
              "    </tr>\n",
              "  </tbody>\n",
              "</table>\n",
              "</div>"
            ],
            "text/plain": [
              "   psfMag_r  fiberMag_r  fiber2Mag_r  petroMag_r  deVMag_r  expMag_r  \\\n",
              "0  20.84498    20.94056     21.52410    20.21043  20.17926  20.40387   \n",
              "1  21.35784    21.51477     22.04900    21.26664  21.06857  21.10284   \n",
              "2  21.70617    21.85586     22.41572    20.82812  20.89326  21.21087   \n",
              "3  17.79862    17.79761     18.43037    16.43511  16.35287  16.74637   \n",
              "4  21.50151    21.28290     21.93224    20.29523  20.27570  20.72075   \n",
              "5  21.12719    21.25681     21.83808    19.96804  20.14513  20.49478   \n",
              "6  20.97313    21.04968     21.64774    20.15119  20.10240  20.33214   \n",
              "7  20.60808    20.90819     21.38455    20.70182  20.61366  20.61337   \n",
              "8  17.76642    17.67537     18.34037    16.22469  16.07633  16.45666   \n",
              "9  21.75565    21.74575     22.35892    21.01648  20.73366  20.99669   \n",
              "\n",
              "   modelMag_r  cModelMag_r      class  \n",
              "0    20.17926     20.17926  b'GALAXY'  \n",
              "1    21.10284     21.10284  b'GALAXY'  \n",
              "2    20.89328     20.89326  b'GALAXY'  \n",
              "3    16.35286     16.35287  b'GALAXY'  \n",
              "4    20.27570     20.27570  b'GALAXY'  \n",
              "5    20.14507     20.14513    b'STAR'  \n",
              "6    20.10243     20.11384  b'GALAXY'  \n",
              "7    20.61366     20.61366    b'STAR'  \n",
              "8    16.07633     16.11027  b'GALAXY'  \n",
              "9    20.99669     20.95294  b'GALAXY'  "
            ]
          },
          "metadata": {
            "tags": []
          },
          "execution_count": 6
        }
      ]
    },
    {
      "metadata": {
        "id": "DGpc6iNL_XKg",
        "colab_type": "text"
      },
      "cell_type": "markdown",
      "source": [
        "Como podemos ver, nuestra tabla contiene 8 columnas de atributos y una columna con las clases: 'STAR' y 'GALAXY'."
      ]
    },
    {
      "metadata": {
        "id": "tGsLGf2TlA-8",
        "colab_type": "text"
      },
      "cell_type": "markdown",
      "source": [
        "### Visualizacion de los datos\n",
        "\n",
        "Siempre es bueno, antes de comenzar cualquier proyecto científico, hacer una exploración visual de nuestros datos. \n",
        "\n",
        "Queremos hacernos una idea general del comportamiento de nuestros datos. Como, qué atributos parecen más importantes, si existen separaciones marcadas en algunas de las características, etc. \n",
        "\n",
        "Vamos a utilizar el método  [`pairplot`](https://seaborn.pydata.org/generated/seaborn.pairplot.html) del paquete `Seaborn`, para graficar tanto las distribuciones de nuestros parámetros como las relaciones entre ellos. \n"
      ]
    },
    {
      "metadata": {
        "id": "dSovcR-NlA--",
        "colab_type": "code",
        "colab": {}
      },
      "cell_type": "code",
      "source": [
        "sns.pairplot(data_df, hue = 'class', diag_kind = 'hist')"
      ],
      "execution_count": 0,
      "outputs": []
    },
    {
      "metadata": {
        "id": "fZX7fmtNlA_L",
        "colab_type": "text"
      },
      "cell_type": "markdown",
      "source": [
        "Hay alguna separacion obvia? Miremos más de cerca algunos de los atributos."
      ]
    },
    {
      "metadata": {
        "id": "c_zQM8W8lA_P",
        "colab_type": "code",
        "colab": {}
      },
      "cell_type": "code",
      "source": [
        "sns.pairplot(data_df[['psfMag_r', 'modelMag_r', 'fiber2Mag_r', 'class']], hue = 'class')"
      ],
      "execution_count": 0,
      "outputs": []
    },
    {
      "metadata": {
        "id": "GUOZCtiNlA_h",
        "colab_type": "text"
      },
      "cell_type": "markdown",
      "source": [
        "### Separacion de Datos\n",
        "\n",
        "Como vimos en la Clase 5, el procedimiento estándar al realizar Aprendizaje Supervisado (cuando tenemos clases para nuestros objetos) es entrenar nuestro modelo en una porción de nuestros datos, para luego probar su precisión en lo que resta de ellos. \n",
        "\n",
        "Además debemos separar nuestra tabla en dos, una que contenga los atributos y otra que contenga las clases. \n"
      ]
    },
    {
      "metadata": {
        "id": "HDV2GzFElA_m",
        "colab_type": "code",
        "colab": {
          "base_uri": "https://localhost:8080/",
          "height": 168
        },
        "outputId": "cdf8f2a1-bc65-4ff5-ee5a-29dd4f4bd70e"
      },
      "cell_type": "code",
      "source": [
        "# Miremos primero la lista con los nombres de las columnas\n",
        "list(data_df)"
      ],
      "execution_count": 7,
      "outputs": [
        {
          "output_type": "execute_result",
          "data": {
            "text/plain": [
              "['psfMag_r',\n",
              " 'fiberMag_r',\n",
              " 'fiber2Mag_r',\n",
              " 'petroMag_r',\n",
              " 'deVMag_r',\n",
              " 'expMag_r',\n",
              " 'modelMag_r',\n",
              " 'cModelMag_r',\n",
              " 'class']"
            ]
          },
          "metadata": {
            "tags": []
          },
          "execution_count": 7
        }
      ]
    },
    {
      "metadata": {
        "id": "aeGmN3K0Ab60",
        "colab_type": "text"
      },
      "cell_type": "markdown",
      "source": [
        "Para realizar la construcción de nuestros modelos utilizaremos el paquete de Python [`Scikit Learn`](https://scikit-learn.org/stable/). Scikit learn requiere que nuestros datos esten en alguna estructura de datos donde las columnas sean los atributos y las filas los objetos. \n",
        "\n",
        "Pero es necesario que nuestros atributos y clases tengan un formato numérico. Afortunadamente, en Astronomía la mayoría de las veces vamos a tratar con atributos numéricos y no es necesario tanto procesamiento. \n",
        "\n",
        "En este caso solo debemos preocuparnos de transformar las clases, ya que de momento son _strings_. "
      ]
    },
    {
      "metadata": {
        "scrolled": true,
        "id": "DtoyhiMdlA_v",
        "colab_type": "code",
        "colab": {}
      },
      "cell_type": "code",
      "source": [
        "# Primero identificamos las clases existentes \n",
        "\n",
        "clases = data_df['class'].unique()\n",
        "\n",
        "mapa = {}\n",
        "\n",
        "for clase, i in enumerate(clases):\n",
        "    mapa[i] = clase"
      ],
      "execution_count": 0,
      "outputs": []
    },
    {
      "metadata": {
        "id": "afzEd2BklA_3",
        "colab_type": "code",
        "colab": {
          "base_uri": "https://localhost:8080/",
          "height": 34
        },
        "outputId": "24265051-c820-47c7-a1b4-8346df988093"
      },
      "cell_type": "code",
      "source": [
        "# Creamos un mapeo entre las clases originales (strings) y las nuevas (enteros)\n",
        "mapa"
      ],
      "execution_count": 9,
      "outputs": [
        {
          "output_type": "execute_result",
          "data": {
            "text/plain": [
              "{b'GALAXY': 0, b'STAR': 1}"
            ]
          },
          "metadata": {
            "tags": []
          },
          "execution_count": 9
        }
      ]
    },
    {
      "metadata": {
        "id": "S2-rb_mXlBAB",
        "colab_type": "code",
        "colab": {}
      },
      "cell_type": "code",
      "source": [
        "# Separamos entre atributos y clases (cambiando el formato de las clases)\n",
        "\n",
        "X = np.array(data_df.iloc[:,:-1])          # Arreglo con atributos\n",
        "\n",
        "\n",
        "y = np.array(data_df['class'].map(mapa))   # Arreglo con clases 0 y 1"
      ],
      "execution_count": 0,
      "outputs": []
    },
    {
      "metadata": {
        "id": "PMa2St9TCT5C",
        "colab_type": "text"
      },
      "cell_type": "markdown",
      "source": [
        "Una cosa importante de considerar al hacer la separación de nuestros datos en sets de entrenamiento y prueba, es la distribución de las clases en ellos. La separación debe ser realizada de tal forma que todas las clases esten representadas en ambos conjuntos. "
      ]
    },
    {
      "metadata": {
        "id": "lbte04udlBAL",
        "colab_type": "code",
        "colab": {}
      },
      "cell_type": "code",
      "source": [
        "# Usamos una funcion de scikit learn para dividir nuestro conjunto al azar\n",
        "\n",
        "from sklearn.model_selection import train_test_split\n",
        "\n",
        "rs = 1851   #Guardamos la semilla \n",
        "train_X, test_X, train_y, test_y = train_test_split(X, y, test_size = 0.3, random_state = rs)"
      ],
      "execution_count": 0,
      "outputs": []
    },
    {
      "metadata": {
        "id": "FlxmO33K4euE",
        "colab_type": "code",
        "colab": {
          "base_uri": "https://localhost:8080/",
          "height": 358
        },
        "outputId": "e1b715c8-e5bb-4181-cf7e-deb18ef8257f"
      },
      "cell_type": "code",
      "source": [
        "# Veamos las distribuciones de clases para cada set\n",
        "\n",
        "plt.figure(figsize = (10,5))\n",
        "\n",
        "plt.hist(train_y, label = 'Entrenamiento')\n",
        "plt.hist(test_y, label = 'Prueba')\n",
        "plt.xlabel('Clases')\n",
        "plt.legend()"
      ],
      "execution_count": 12,
      "outputs": [
        {
          "output_type": "execute_result",
          "data": {
            "text/plain": [
              "<matplotlib.legend.Legend at 0x7f879a4ad5c0>"
            ]
          },
          "metadata": {
            "tags": []
          },
          "execution_count": 12
        },
        {
          "output_type": "display_data",
          "data": {
            "image/png": "[encoded data removed]",
            "text/plain": [
              "<Figure size 720x360 with 1 Axes>"
            ]
          },
          "metadata": {
            "tags": []
          }
        }
      ]
    },
    {
      "metadata": {
        "id": "iGsuENRqlBAX",
        "colab_type": "text"
      },
      "cell_type": "markdown",
      "source": [
        "#### Inincializar un modelo"
      ]
    },
    {
      "metadata": {
        "id": "CWzYLoCqlBBj",
        "colab_type": "code",
        "colab": {}
      },
      "cell_type": "code",
      "source": [
        "# Utilizaremos la implementación de scikit-learn de esta matriz\n",
        "\n",
        "from sklearn.metrics import confusion_matrix"
      ],
      "execution_count": 0,
      "outputs": []
    },
    {
      "metadata": {
        "id": "GKR71I7plBB2",
        "colab_type": "code",
        "colab": {}
      },
      "cell_type": "code",
      "source": [
        "from sklearn.utils.multiclass import unique_labels\n",
        "\n",
        "\n",
        "def plot_confusion_matrix(y_true, y_pred, classes,\n",
        "                          normalize=False,\n",
        "                          title=None,\n",
        "                          cmap=plt.cm.Blues):\n",
        "    \"\"\"\n",
        "    This function prints and plots the confusion matrix.\n",
        "    Normalization can be applied by setting `normalize=True`.\n",
        "    \"\"\"\n",
        "    if not title:\n",
        "        if normalize:\n",
        "            title = 'Matriz de confusion normalizada'\n",
        "        else:\n",
        "            title = 'Matriz de confusion, sin normalizacion'\n",
        "\n",
        "    # Compute confusion matrix\n",
        "    cm = confusion_matrix(y_true, y_pred)\n",
        "    # Only use the labels that appear in the data\n",
        "    classes = classes[unique_labels(y_true, y_pred)]\n",
        "    if normalize:\n",
        "        cm = cm.astype('float') / cm.sum(axis=1)[:, np.newaxis]\n",
        "        print(\"Matriz de confusion normalizada\")\n",
        "    else:\n",
        "        print('Matriz de confusion, sin normalizacion')\n",
        "\n",
        "    print(cm)\n",
        "\n",
        "    fig, ax = plt.subplots(figsize = (8,8))\n",
        "    im = ax.imshow(cm, interpolation='nearest', cmap=cmap)\n",
        "    ax.figure.colorbar(im, ax=ax)\n",
        "    # We want to show all ticks...\n",
        "    ax.set(xticks=np.arange(cm.shape[1]),\n",
        "           yticks=np.arange(cm.shape[0]),\n",
        "           # ... and label them with the respective list entries\n",
        "           xticklabels=classes, yticklabels=classes,\n",
        "           title=title,\n",
        "           ylabel='Etiqueta Real',\n",
        "           xlabel='Etiqueta Predicha')\n",
        "\n",
        "    # Rotate the tick labels and set their alignment.\n",
        "    plt.setp(ax.get_xticklabels(), rotation=45, ha=\"right\",\n",
        "             rotation_mode=\"anchor\", fontsize=15)\n",
        "\n",
        "    # Loop over data dimensions and create text annotations.\n",
        "    fmt = '.2f' if normalize else 'd'\n",
        "    thresh = cm.max() / 2.\n",
        "    for i in range(cm.shape[0]):\n",
        "        for j in range(cm.shape[1]):\n",
        "            ax.text(j, i, format(cm[i, j], fmt), fontsize=25,\n",
        "                    ha=\"center\", va=\"center\",\n",
        "                    color=\"white\" if cm[i, j] > thresh else \"black\")\n",
        "            \n",
        "    ax.grid(False)\n",
        "    fig.tight_layout()\n",
        "    return ax"
      ],
      "execution_count": 0,
      "outputs": []
    },
    {
      "metadata": {
        "id": "Z_0cZhMkVBIJ",
        "colab_type": "text"
      },
      "cell_type": "markdown",
      "source": [
        "#KNN"
      ]
    },
    {
      "metadata": {
        "id": "7Vve9pcAlBAZ",
        "colab_type": "code",
        "colab": {}
      },
      "cell_type": "code",
      "source": [
        "# Vamos a utilizar la implementacion del algoritmo knn de scikitlearn\n",
        "\n",
        "from sklearn.neighbors import KNeighborsClassifier\n",
        "\n",
        "knn_clf = KNeighborsClassifier(n_neighbors=25)   # Debemos especificar el numero\n",
        "                                                 #de vecinos, en este caso escogemos 25\n",
        "knn_clf.fit(train_X, train_y)"
      ],
      "execution_count": 0,
      "outputs": []
    },
    {
      "metadata": {
        "id": "mIc_vMVSlBA4",
        "colab_type": "code",
        "colab": {}
      },
      "cell_type": "code",
      "source": [
        "# Hacemos la clasificacion del set de prueba\n",
        "\n",
        "pred_test = knn_clf.predict(test_X)"
      ],
      "execution_count": 0,
      "outputs": []
    },
    {
      "metadata": {
        "id": "oRDs-Z0QlBBC",
        "colab_type": "code",
        "colab": {
          "base_uri": "https://localhost:8080/",
          "height": 34
        },
        "outputId": "aaa9b457-5b0a-457d-a78b-0390fc6b6f2f"
      },
      "cell_type": "code",
      "source": [
        "pred_test"
      ],
      "execution_count": 26,
      "outputs": [
        {
          "output_type": "execute_result",
          "data": {
            "text/plain": [
              "array([1, 1, 0, ..., 0, 0, 1])"
            ]
          },
          "metadata": {
            "tags": []
          },
          "execution_count": 26
        }
      ]
    },
    {
      "metadata": {
        "id": "dkS9jNddlBBK",
        "colab_type": "code",
        "colab": {
          "base_uri": "https://localhost:8080/",
          "height": 34
        },
        "outputId": "7203231c-7f77-413f-ecd3-f32e8c9cb19d"
      },
      "cell_type": "code",
      "source": [
        "test_y"
      ],
      "execution_count": 27,
      "outputs": [
        {
          "output_type": "execute_result",
          "data": {
            "text/plain": [
              "array([1, 1, 0, ..., 0, 0, 1])"
            ]
          },
          "metadata": {
            "tags": []
          },
          "execution_count": 27
        }
      ]
    },
    {
      "metadata": {
        "id": "7hJohEyw1S1t",
        "colab_type": "code",
        "colab": {
          "base_uri": "https://localhost:8080/",
          "height": 631
        },
        "outputId": "19fc5f16-9e34-4570-a8f0-307e362ec522"
      },
      "cell_type": "code",
      "source": [
        "plot_confusion_matrix(test_y, pred_test, classes=clases, normalize = True,\n",
        "                      title='Matriz de confusion, con normalizacion')"
      ],
      "execution_count": 28,
      "outputs": [
        {
          "output_type": "stream",
          "text": [
            "Matriz de confusion normalizada\n",
            "[[0.97 0.03]\n",
            " [0.02 0.98]]\n"
          ],
          "name": "stdout"
        },
        {
          "output_type": "execute_result",
          "data": {
            "text/plain": [
              "<matplotlib.axes._subplots.AxesSubplot at 0x7f879a061828>"
            ]
          },
          "metadata": {
            "tags": []
          },
          "execution_count": 28
        },
        {
          "output_type": "display_data",
          "data": {
            "image/png": "[encoded data removed]",
            "text/plain": [
              "<Figure size 576x576 with 2 Axes>"
            ]
          },
          "metadata": {
            "tags": []
          }
        }
      ]
    },
    {
      "metadata": {
        "id": "YnL2BI8YQ0Ip",
        "colab_type": "code",
        "colab": {}
      },
      "cell_type": "code",
      "source": [
        ""
      ],
      "execution_count": 0,
      "outputs": []
    }
  ]
}